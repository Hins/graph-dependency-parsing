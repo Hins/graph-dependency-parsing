{
 "cells": [
  {
   "cell_type": "code",
   "execution_count": 1,
   "metadata": {},
   "outputs": [],
   "source": [
    "import pandas as pd\n",
    "import torch\n",
    "import os\n",
    "import numpy as np\n",
    "from conll_df import conll_df"
   ]
  },
  {
   "cell_type": "code",
   "execution_count": 42,
   "metadata": {},
   "outputs": [],
   "source": [
    "file_vec = ['en-ud-train.conllu', 'en-ud-dev.conllu', 'en-ud-test.conllu']\n",
    "\n",
    "for k in range(len(file_vec)):\n",
    "    path = '/home/student/Desktop/NLP/project/UD_English/'+file_vec[k]\n",
    "    df = conll_df(path, file_index=False)\n",
    "    df_new = df[['w', 'x', 'g', 'f']] \n",
    "    data_string = df_new.to_csv()\n",
    "    data_list = data_string.split('\\n')\n",
    "    data_list = data_list[:-1]\n",
    "\n",
    "    names = ['training', 'dev', 'test']\n",
    "    \n",
    "    f = open(\"UD_english_reduced_\" + names[k]+\".txt\", \"w\")\n",
    "    for i in range(len(data_list)):\n",
    "        line = data_list[i].split(',')\n",
    "        for j in range(len(line)):\n",
    "            if (j%6 == 2 or j%6 == 3 or j%6 == 4):\n",
    "                f.write(line[j]+', ')\n",
    "            if (j%6 == 5):\n",
    "                f.write(line[j]+'\\n')\n",
    "   \n",
    "    f.close()"
   ]
  },
  {
   "cell_type": "code",
   "execution_count": 38,
   "metadata": {},
   "outputs": [],
   "source": [
    "# print(data_string[0:100])\n"
   ]
  },
  {
   "cell_type": "code",
   "execution_count": 25,
   "metadata": {},
   "outputs": [
    {
     "name": "stdout",
     "output_type": "stream",
     "text": [
      "2\n",
      "s,i,w,x,g,f\n"
     ]
    }
   ],
   "source": [
    "print(data_list[0])"
   ]
  },
  {
   "cell_type": "code",
   "execution_count": 27,
   "metadata": {},
   "outputs": [
    {
     "name": "stdout",
     "output_type": "stream",
     "text": [
      "[[ 0.  0.  0.]\n",
      " [ 0.  0.  0.]]\n"
     ]
    }
   ],
   "source": [
    "print(np.zeros((2,3)))"
   ]
  },
  {
   "cell_type": "code",
   "execution_count": null,
   "metadata": {},
   "outputs": [],
   "source": []
  }
 ],
 "metadata": {
  "kernelspec": {
   "display_name": "Python 3",
   "language": "python",
   "name": "python3"
  },
  "language_info": {
   "codemirror_mode": {
    "name": "ipython",
    "version": 3
   },
   "file_extension": ".py",
   "mimetype": "text/x-python",
   "name": "python",
   "nbconvert_exporter": "python",
   "pygments_lexer": "ipython3",
   "version": "3.5.2"
  }
 },
 "nbformat": 4,
 "nbformat_minor": 2
}
